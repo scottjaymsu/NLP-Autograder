{
 "cells": [
  {
   "cell_type": "code",
   "execution_count": 1,
   "metadata": {
    "colab": {
     "base_uri": "https://localhost:8080/"
    },
    "id": "mZcGYtoSk6eH",
    "outputId": "981653cc-b86f-45ec-d974-bf28a1269e6c"
   },
   "outputs": [
    {
     "name": "stdout",
     "output_type": "stream",
     "text": [
      "Cloning into 'nlp-autograder'...\n",
      "remote: Enumerating objects: 186, done.\u001b[K\n",
      "remote: Counting objects: 100% (116/116), done.\u001b[K\n",
      "remote: Compressing objects: 100% (106/106), done.\u001b[K\n",
      "remote: Total 186 (delta 73), reused 21 (delta 10), pack-reused 70 (from 1)\u001b[K\n",
      "Receiving objects: 100% (186/186), 113.21 MiB | 13.29 MiB/s, done.\n",
      "Resolving deltas: 100% (93/93), done.\n",
      "Updating files: 100% (30/30), done.\n",
      "/content/nlp-autograder\n"
     ]
    }
   ],
   "source": [
    "!git clone https://github.com/scottjaymsu/nlp-autograder.git\n",
    "%cd nlp-autograder"
   ]
  },
  {
   "cell_type": "code",
   "execution_count": null,
   "metadata": {
    "id": "SEfRp36xgT_r"
   },
   "outputs": [],
   "source": [
    "import pandas as pd\n",
    "import numpy as np\n",
    "import torch\n",
    "import torch.nn as nn\n",
    "import torch.optim as optim\n",
    "from torch.utils.data import DataLoader, TensorDataset, Subset\n",
    "\n",
    "from sklearn.model_selection import StratifiedKFold\n",
    "from sklearn.preprocessing import LabelEncoder\n",
    "from sklearn.metrics import accuracy_score\n",
    "from sklearn.model_selection import train_test_split\n",
    "from sklearn.utils.class_weight import compute_class_weight\n",
    "\n",
    "import os\n",
    "from tqdm import tqdm\n",
    "from transformers import BertTokenizer, BertModel\n",
    "\n"
   ]
  },
  {
   "cell_type": "code",
   "execution_count": null,
   "metadata": {
    "colab": {
     "base_uri": "https://localhost:8080/",
     "height": 104
    },
    "id": "_kJD8xgciGUD",
    "outputId": "dc53be4b-cc38-49cd-98e9-6ad16d4196a2"
   },
   "outputs": [
    {
     "data": {
      "application/vnd.google.colaboratory.intrinsic+json": {
       "type": "string"
      },
      "text/plain": [
       "'\\ncwd = os.getcwd()\\nembed = cwd + \"/sentence_embeddings_train.pt\"\\nif os.path.exists(embed):\\n    X_train = torch.load(embed, weights_only = True)\\nelse:\\n    print(\"No train embeddings found\")\\n\\nembed = cwd + \"/sentence_embeddings_test.pt\"\\nif os.path.exists(embed):\\n    X_test = torch.load(embed, weights_only=True)\\nelse:\\n    print(\"No test embeddings found\")\\n\\nembed = cwd + \"/sentence_embeddings_val.pt\"\\nif os.path.exists(embed):\\n    X_val = torch.load(embed, map_location=torch.device(\\'cpu\\'), weights_only=True)\\n    X_val = X_val.to(device)\\nelse:\\n    print(\"No val embeddings found\")\\n'"
      ]
     },
     "execution_count": 25,
     "metadata": {},
     "output_type": "execute_result"
    }
   ],
   "source": [
    "# load and process data\n",
    "data = pd.read_csv('train.csv').dropna()\n",
    "X = data.iloc[:, 1]\n",
    "y = data.iloc[:, 2].astype(int)\n",
    "max_score = y.max()\n",
    "\n",
    "X_train, X_test, y_train, y_test = train_test_split(X, y, test_size=0.2, random_state=42)\n",
    "\n",
    "if torch.cuda.is_available():\n",
    "    device = torch.device('cuda')\n",
    "elif torch.mps.is_available():\n",
    "    device = torch.device('mps')\n",
    "else:\n",
    "    device = torch.device('cpu')\n"
   ]
  },
  {
   "cell_type": "code",
   "execution_count": null,
   "metadata": {
    "id": "2-EEdCFct1he"
   },
   "outputs": [],
   "source": [
    "def get_bert_embeddings(texts, device='cuda', save_name=None):\n",
    "    tokenizer = BertTokenizer.from_pretrained(\"bert-base-uncased\")\n",
    "    bert = BertModel.from_pretrained(\"bert-base-uncased\").to(device)\n",
    "    bert.eval()\n",
    "\n",
    "    embeddings = []\n",
    "\n",
    "    for text in tqdm(texts, desc=\"Processing texts\", unit=\"text\"):\n",
    "        with torch.no_grad():\n",
    "            inputs = tokenizer(text, padding=True, truncation=True, return_tensors='pt').to(device)\n",
    "            outputs = bert(**inputs)\n",
    "            sentence_embedding = outputs.last_hidden_state[:, 0, :]  \n",
    "            embeddings.append(sentence_embedding.squeeze(0))\n",
    "\n",
    "    embeddings_tensor = torch.stack(embeddings)\n",
    "\n",
    "    if save_name:\n",
    "        torch.save(embeddings_tensor, f\"{save_name}.pt\")\n",
    "\n",
    "    return embeddings_tensor"
   ]
  },
  {
   "cell_type": "code",
   "execution_count": null,
   "metadata": {
    "colab": {
     "base_uri": "https://localhost:8080/"
    },
    "id": "iwisUSnT1nov",
    "outputId": "8d53e3ca-002d-415c-b36b-99f062306ac1"
   },
   "outputs": [
    {
     "name": "stderr",
     "output_type": "stream",
     "text": [
      "Processing texts: 100%|██████████| 6808/6808 [03:15<00:00, 34.87text/s]\n",
      "Processing texts: 100%|██████████| 1702/1702 [00:46<00:00, 36.76text/s]\n"
     ]
    }
   ],
   "source": [
    "# generate BERT embeddings\n",
    "features_tensor = get_bert_embeddings(X_train)\n",
    "features_tensor_test = get_bert_embeddings(X_test)\n",
    "\n",
    "labels_tensor = torch.tensor(y_train.values - 1, dtype=torch.long)\n",
    "labels_tensor_test = torch.tensor(y_test.values - 1, dtype=torch.long)\n"
   ]
  },
  {
   "cell_type": "code",
   "execution_count": 28,
   "metadata": {
    "id": "qWoU7YwbogWr"
   },
   "outputs": [],
   "source": [
    "# fully connected NN\n",
    "class FCNN(nn.Module):\n",
    "    def __init__(self, input_dim, hidden_dim, output_dim):\n",
    "        super(FCNN, self).__init__()\n",
    "\n",
    "        self.flatten = nn.Flatten()\n",
    "        self.linear_relu_stack = nn.Sequential(\n",
    "            nn.Linear(input_dim, hidden_dim),\n",
    "            nn.Sigmoid(),\n",
    "            nn.Dropout(0.5),\n",
    "            nn.Linear(hidden_dim, hidden_dim),\n",
    "            nn.Sigmoid(),\n",
    "            nn.Linear(hidden_dim, output_dim)\n",
    "        )\n",
    "\n",
    "    def forward(self, x):\n",
    "        x = self.flatten(x)\n",
    "        logits = self.linear_relu_stack(x)\n",
    "        return logits\n"
   ]
  },
  {
   "cell_type": "code",
   "execution_count": 50,
   "metadata": {
    "colab": {
     "base_uri": "https://localhost:8080/"
    },
    "id": "0vwn4oNUwISY",
    "outputId": "35bd07bf-7790-467b-fa7b-9b6d949ebef5"
   },
   "outputs": [
    {
     "name": "stdout",
     "output_type": "stream",
     "text": [
      "\n",
      "Train Set Accuracy: 0.7804054054054054\n"
     ]
    }
   ],
   "source": [
    "# train model\n",
    "def train_model(model, train_loader, loss_fn, optimizer, epochs=1000):\n",
    "    model.train()\n",
    "    for epoch in range(epochs):\n",
    "        running_loss = 0.0\n",
    "        for inputs, labels in train_loader:\n",
    "            inputs, labels = inputs.to(device), labels.to(device)\n",
    "\n",
    "            optimizer.zero_grad()\n",
    "            outputs = model(inputs)\n",
    "            loss = loss_fn(outputs, labels)\n",
    "            running_loss += loss.item()\n",
    "            loss.backward()\n",
    "            optimizer.step()\n",
    "\n",
    "    model.eval()\n",
    "    y_actual, y_pred = [], []\n",
    "    with torch.no_grad():\n",
    "      for inputs, labels in train_loader:\n",
    "        inputs, labels = inputs.to(device), labels.to(device)\n",
    "\n",
    "        outputs = model(inputs)\n",
    "        _, predicted = torch.max(outputs, 1)\n",
    "        y_actual.extend(labels.cpu().numpy())\n",
    "        y_pred.extend(predicted.cpu().numpy())\n",
    "\n",
    "    train_accuracy = accuracy_score(y_actual, y_pred)\n",
    "    print(f\"\\nTrain Set Accuracy: {train_accuracy}\")\n",
    "\n",
    "\n",
    "\n",
    "train_dataset_full = TensorDataset(features_tensor, labels_tensor)\n",
    "train_loader_full = DataLoader(train_dataset_full, batch_size=64, shuffle=True)\n",
    "\n",
    "model = FCNN(input_dim=features_tensor.shape[1], hidden_dim=256, output_dim=max_score).to(device)\n",
    "class_weights = compute_class_weight(class_weight='balanced', classes=np.unique(y_train), y=y)\n",
    "class_weights = torch.tensor(class_weights, dtype=torch.float).to(device)\n",
    "loss_fn = nn.CrossEntropyLoss(weight=class_weights)\n",
    "optimizer = optim.Adam(model.parameters(), lr=0.0001)\n",
    "\n",
    "train_model(model, train_loader_full, loss_fn, optimizer, epochs=750)\n"
   ]
  },
  {
   "cell_type": "code",
   "execution_count": 51,
   "metadata": {
    "colab": {
     "base_uri": "https://localhost:8080/"
    },
    "id": "Y-IAYTnfpEG-",
    "outputId": "863c1c6f-a35f-4324-9c12-d9686242e6e1"
   },
   "outputs": [
    {
     "name": "stdout",
     "output_type": "stream",
     "text": [
      "Fold 1/5\n",
      "\n",
      "Train Set Accuracy: 0.6836210062431142\n",
      "Fold 1 Accuracy: 0.5323054331864905\n",
      "Fold 2/5\n",
      "\n",
      "Train Set Accuracy: 0.6733382298934998\n",
      "Fold 2 Accuracy: 0.5418502202643172\n",
      "Fold 3/5\n",
      "\n",
      "Train Set Accuracy: 0.6852735952993022\n",
      "Fold 3 Accuracy: 0.5205580029368576\n",
      "Fold 4/5\n",
      "\n",
      "Train Set Accuracy: 0.6945107398568019\n",
      "Fold 4 Accuracy: 0.5429831006612784\n",
      "Fold 5/5\n",
      "\n",
      "Train Set Accuracy: 0.6787222324215164\n",
      "Fold 5 Accuracy: 0.5576781778104335\n"
     ]
    }
   ],
   "source": [
    "# cross validate model using 5 folds\n",
    "k_folds = 5\n",
    "kf = StratifiedKFold(n_splits=k_folds, shuffle=True, random_state=42)\n",
    "\n",
    "fold_accuracies = []\n",
    "\n",
    "for fold, (train_idx, val_idx) in enumerate(kf.split(features_tensor, labels_tensor)):\n",
    "    print(f\"Fold {fold + 1}/{k_folds}\")\n",
    "\n",
    "    train_features, val_features = features_tensor[train_idx], features_tensor[val_idx]\n",
    "    train_labels, val_labels = labels_tensor[train_idx], labels_tensor[val_idx]\n",
    "\n",
    "    train_dataset = TensorDataset(train_features, train_labels)\n",
    "    val_dataset = TensorDataset(val_features, val_labels)\n",
    "\n",
    "    train_loader = DataLoader(train_dataset, batch_size=64, shuffle=True)\n",
    "    val_loader = DataLoader(val_dataset, batch_size=64, shuffle=False)\n",
    "\n",
    "    model = FCNN(input_dim=features_tensor.shape[1], hidden_dim=256, output_dim=max_score).to(device)\n",
    "    class_weights = compute_class_weight(class_weight='balanced', classes=np.unique(y), y=y)\n",
    "    class_weights = torch.tensor(class_weights, dtype=torch.float).to(device)\n",
    "    loss_fn = nn.CrossEntropyLoss(weight=class_weights)\n",
    "    optimizer = optim.Adam(model.parameters(), lr=0.0001)\n",
    "\n",
    "    train_model(model, train_loader, loss_fn, optimizer, epochs=500)\n",
    "\n",
    "    model.eval()\n",
    "    y_actual, y_pred = [], []\n",
    "    with torch.no_grad():\n",
    "        for inputs, labels in val_loader:\n",
    "            outputs = model(inputs)\n",
    "            _, predicted = torch.max(outputs, 1)\n",
    "            y_actual.extend(labels.cpu().numpy())\n",
    "            y_pred.extend(predicted.cpu().numpy())\n",
    "\n",
    "    fold_accuracy = accuracy_score(y_actual, y_pred)\n",
    "    fold_accuracies.append(fold_accuracy)\n",
    "    print(f\"Fold {fold + 1} Accuracy: {fold_accuracy}\")\n"
   ]
  },
  {
   "cell_type": "code",
   "execution_count": 52,
   "metadata": {
    "colab": {
     "base_uri": "https://localhost:8080/"
    },
    "id": "I6VHxMMbpJA5",
    "outputId": "beb7e065-e8a5-4ea4-d492-4986345ae071"
   },
   "outputs": [
    {
     "name": "stdout",
     "output_type": "stream",
     "text": [
      "\n",
      "Average accuracy across 5 folds: 0.5390749869718754\n"
     ]
    }
   ],
   "source": [
    "# average validation accuracy\n",
    "average_accuracy = np.mean(fold_accuracies)\n",
    "print(f\"\\nAverage accuracy across {k_folds} folds: {average_accuracy}\")\n"
   ]
  },
  {
   "cell_type": "code",
   "execution_count": 63,
   "metadata": {
    "colab": {
     "base_uri": "https://localhost:8080/"
    },
    "id": "y-bc7xD3pwpm",
    "outputId": "85fe3198-3c8f-45b8-bf40-e4b1dc5b955d"
   },
   "outputs": [
    {
     "name": "stdout",
     "output_type": "stream",
     "text": [
      "\n",
      "Train Set Accuracy: 0.777027027027027\n",
      "\n",
      "Test Set Accuracy: 0.5558166862514688\n"
     ]
    }
   ],
   "source": [
    "# retrain and test\n",
    "train_dataset_full = TensorDataset(features_tensor, labels_tensor)\n",
    "train_loader_full = DataLoader(train_dataset_full, batch_size=64, shuffle=True)\n",
    "\n",
    "final_model = FCNN(input_dim=features_tensor.shape[1], hidden_dim=256, output_dim=len(np.unique(y))).to(device)\n",
    "final_optimizer = optim.Adam(final_model.parameters(), lr=0.0001)\n",
    "\n",
    "train_model(final_model, train_loader_full, loss_fn, final_optimizer, epochs=750)\n",
    "\n",
    "test_dataset = TensorDataset(features_tensor_test, labels_tensor_test)\n",
    "test_loader = DataLoader(test_dataset, batch_size=64, shuffle=False)\n",
    "\n",
    "final_model.eval()\n",
    "y_actual_test, y_pred_test = [], []\n",
    "with torch.no_grad():\n",
    "    for inputs, labels in test_loader:\n",
    "        inputs, labels = inputs.to(device), labels.to(device)\n",
    "\n",
    "        outputs = final_model(inputs)\n",
    "        _, predicted = torch.max(outputs, 1)\n",
    "        y_actual_test.extend(labels.cpu().numpy())\n",
    "        y_pred_test.extend(predicted.cpu().numpy())\n",
    "\n",
    "test_accuracy = accuracy_score(y_actual_test, y_pred_test)\n",
    "print(f\"\\nTest Set Accuracy: {test_accuracy}\")\n"
   ]
  },
  {
   "cell_type": "code",
   "execution_count": 64,
   "metadata": {
    "colab": {
     "base_uri": "https://localhost:8080/"
    },
    "id": "lKlLppkg2sj-",
    "outputId": "5c2d6859-6068-4cc3-942c-269c3bdfb715"
   },
   "outputs": [
    {
     "name": "stdout",
     "output_type": "stream",
     "text": [
      "\n",
      "Quadratic Kappa Score: 0.402699455763871\n"
     ]
    }
   ],
   "source": [
    "from sklearn.metrics import cohen_kappa_score\n",
    "kappa_score = cohen_kappa_score(y_actual_test, y_pred_test)\n",
    "print(f\"\\nQuadratic Kappa Score: {kappa_score}\")"
   ]
  },
  {
   "cell_type": "code",
   "execution_count": 65,
   "metadata": {
    "colab": {
     "base_uri": "https://localhost:8080/"
    },
    "id": "P_vDw8tQMxxx",
    "outputId": "f25ce743-9c83-4ec4-f174-37b9f3dcd775"
   },
   "outputs": [
    {
     "name": "stdout",
     "output_type": "stream",
     "text": [
      "Precision (Macro): 0.4370801250511031\n",
      "Recall (Macro): 0.4481733064272384\n",
      "F1 Score (Macro): 0.43976220824315626\n",
      "Precision (Micro): 0.5558166862514688\n",
      "Recall (Micro): 0.5558166862514688\n",
      "F1 Score (Micro): 0.5558166862514688\n",
      "Precision (Weighted): 0.5652378924371716\n",
      "Recall (Weighted): 0.5558166862514688\n",
      "F1 Score (Weighted): 0.5568321765680497\n",
      "Overall Accuracy:  0.5558166862514688\n"
     ]
    }
   ],
   "source": [
    "from sklearn.metrics import precision_score, recall_score, fbeta_score, accuracy_score\n",
    "\n",
    "# metrics calculated for each class and averaged\n",
    "precision_macro = precision_score(y_actual_test, y_pred_test, average='macro')\n",
    "recall_macro = recall_score(y_actual_test, y_pred_test, average='macro')\n",
    "fscore_macro = fbeta_score(y_actual_test, y_pred_test, beta=1, average='macro')\n",
    "\n",
    "# uses sums of tp, fp, and fn to perform calculations\n",
    "precision_micro = precision_score(y_actual_test, y_pred_test, average='micro')\n",
    "recall_micro = recall_score(y_actual_test, y_pred_test, average='micro')\n",
    "fscore_micro = fbeta_score(y_actual_test, y_pred_test, beta=1, average='micro')\n",
    "\n",
    "# weighted average of metrics calculated independently for each class\n",
    "precision_weighted = precision_score(y_actual_test, y_pred_test, average='weighted')\n",
    "recall_weighted = recall_score(y_actual_test, y_pred_test, average='weighted')\n",
    "fscore_weighted = fbeta_score(y_actual_test, y_pred_test, beta=1, average='weighted')\n",
    "\n",
    "# overall accuracy\n",
    "accuracy = accuracy_score(y_actual_test, y_pred_test)\n",
    "\n",
    "print(\"Precision (Macro):\", precision_macro)\n",
    "print(\"Recall (Macro):\", recall_macro)\n",
    "print(\"F1 Score (Macro):\", fscore_macro)\n",
    "print(\"Precision (Micro):\", precision_micro)\n",
    "print(\"Recall (Micro):\", recall_micro)\n",
    "print(\"F1 Score (Micro):\", fscore_micro)\n",
    "print(\"Precision (Weighted):\", precision_weighted)\n",
    "print(\"Recall (Weighted):\", recall_weighted)\n",
    "print(\"F1 Score (Weighted):\", fscore_weighted)\n",
    "print(\"Overall Accuracy: \", accuracy)"
   ]
  }
 ],
 "metadata": {
  "accelerator": "GPU",
  "colab": {
   "gpuType": "T4",
   "provenance": []
  },
  "kernelspec": {
   "display_name": "Python 3",
   "name": "python3"
  },
  "language_info": {
   "name": "python"
  }
 },
 "nbformat": 4,
 "nbformat_minor": 0
}
