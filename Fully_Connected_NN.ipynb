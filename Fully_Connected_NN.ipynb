{
  "nbformat": 4,
  "nbformat_minor": 0,
  "metadata": {
    "colab": {
      "provenance": [],
      "gpuType": "T4"
    },
    "kernelspec": {
      "name": "python3",
      "display_name": "Python 3"
    },
    "language_info": {
      "name": "python"
    },
    "accelerator": "GPU"
  },
  "cells": [
    {
      "cell_type": "code",
      "source": [
        "!git clone https://github.com/scottjaymsu/nlp-autograder.git\n",
        "%cd nlp-autograder"
      ],
      "metadata": {
        "colab": {
          "base_uri": "https://localhost:8080/"
        },
        "id": "mZcGYtoSk6eH",
        "outputId": "cecc83a3-83b4-4b22-aea5-8451412d0934"
      },
      "execution_count": 1,
      "outputs": [
        {
          "output_type": "stream",
          "name": "stdout",
          "text": [
            "Cloning into 'nlp-autograder'...\n",
            "remote: Enumerating objects: 62, done.\u001b[K\n",
            "remote: Counting objects: 100% (46/46), done.\u001b[K\n",
            "remote: Compressing objects: 100% (35/35), done.\u001b[K\n",
            "remote: Total 62 (delta 15), reused 35 (delta 9), pack-reused 16 (from 1)\u001b[K\n",
            "Receiving objects: 100% (62/62), 110.50 MiB | 13.37 MiB/s, done.\n",
            "Resolving deltas: 100% (18/18), done.\n",
            "Updating files: 100% (28/28), done.\n",
            "/content/nlp-autograder\n"
          ]
        }
      ]
    },
    {
      "cell_type": "code",
      "source": [
        "import pandas as pd\n",
        "import numpy as np\n",
        "import torch\n",
        "import torch.nn as nn\n",
        "import torch.optim as optim\n",
        "from torch.utils.data import DataLoader, TensorDataset\n",
        "\n",
        "\n",
        "from sklearn.model_selection import StratifiedKFold\n",
        "from sklearn.preprocessing import LabelEncoder\n",
        "from sklearn.metrics import accuracy_score\n",
        "from sklearn.model_selection import train_test_split\n",
        "from sklearn.utils.class_weight import compute_class_weight\n",
        "\n",
        "from gensim.models import Word2Vec\n",
        "\n",
        "import nltk\n",
        "from nltk.tokenize import word_tokenize\n",
        "from nltk.corpus import stopwords\n",
        "from nltk.stem import WordNetLemmatizer\n",
        "import re\n"
      ],
      "metadata": {
        "id": "SEfRp36xgT_r"
      },
      "execution_count": 11,
      "outputs": []
    },
    {
      "cell_type": "code",
      "source": [
        "# Step 1: Load and preprocess the data\n",
        "data = pd.read_csv('train.csv').dropna()\n",
        "X = data.iloc[:, 1]\n",
        "y = data.iloc[:, 2].astype(int)\n",
        "max_score = y.max()\n",
        "\n",
        "X_train, X_test, y_train, y_test = train_test_split(X, y, test_size=0.2, random_state=42)"
      ],
      "metadata": {
        "id": "_kJD8xgciGUD"
      },
      "execution_count": 26,
      "outputs": []
    },
    {
      "cell_type": "code",
      "source": [
        "nltk.download('punkt')\n",
        "nltk.download('stopwords')\n",
        "nltk.download('wordnet')\n",
        "nltk.download('punkt_tab')\n",
        "\n",
        "def preprocess_text(text):\n",
        "    \"\"\"Preprocesses a single essay.\"\"\"\n",
        "\n",
        "    # cleaning text\n",
        "    text = text.lower()\n",
        "\n",
        "    text = re.sub(r'[^\\w\\s]', '', text)\n",
        "\n",
        "    #tokenization\n",
        "    tokens = word_tokenize(text)\n",
        "\n",
        "    # other processing\n",
        "    stop_words = set(stopwords.words('english'))\n",
        "    tokens = [token for token in tokens if token not in stop_words]\n",
        "\n",
        "    lemmatizer = WordNetLemmatizer()\n",
        "    tokens = [lemmatizer.lemmatize(token) for token in tokens]\n",
        "\n",
        "    preprocessed_text = ' '.join(tokens)\n",
        "\n",
        "    return preprocessed_text\n",
        "\n",
        "X_train_preprocessed = X_train.apply(preprocess_text)\n"
      ],
      "metadata": {
        "colab": {
          "base_uri": "https://localhost:8080/"
        },
        "id": "VZkIW1lNlPyw",
        "outputId": "569d2d4d-eca8-4217-8e9f-af0b25afe875"
      },
      "execution_count": 27,
      "outputs": [
        {
          "output_type": "stream",
          "name": "stderr",
          "text": [
            "[nltk_data] Downloading package punkt to /root/nltk_data...\n",
            "[nltk_data]   Package punkt is already up-to-date!\n",
            "[nltk_data] Downloading package stopwords to /root/nltk_data...\n",
            "[nltk_data]   Package stopwords is already up-to-date!\n",
            "[nltk_data] Downloading package wordnet to /root/nltk_data...\n",
            "[nltk_data]   Package wordnet is already up-to-date!\n",
            "[nltk_data] Downloading package punkt_tab to /root/nltk_data...\n",
            "[nltk_data]   Package punkt_tab is already up-to-date!\n"
          ]
        }
      ]
    },
    {
      "cell_type": "code",
      "source": [
        "# embeddings for train set\n",
        "w2v_model = Word2Vec(sentences=[essay.split() for essay in X_train_preprocessed], vector_size=50, window=5, min_count=1, workers=4)\n",
        "\n",
        "def get_feature_vector(essay, w2v_model):\n",
        "    words = essay.split()\n",
        "    word_vecs = [w2v_model.wv[word] for word in words if word in w2v_model.wv]\n",
        "    return np.mean(word_vecs, axis=0) if word_vecs else np.zeros(w2v_model.vector_size)\n",
        "\n",
        "# create feature vectors for train set\n",
        "feature_vectors = np.array([get_feature_vector(essay, w2v_model) for essay in X_train_preprocessed])"
      ],
      "metadata": {
        "id": "U-knzNTUnPxq"
      },
      "execution_count": 28,
      "outputs": []
    },
    {
      "cell_type": "code",
      "source": [
        "features_tensor = torch.tensor(feature_vectors, dtype=torch.float32)\n",
        "labels_tensor = torch.tensor(y_train.values-1, dtype=torch.long)\n",
        "\n",
        "# fully connected NN\n",
        "class FCNN(nn.Module):\n",
        "    def __init__(self, input_dim, hidden_dim, output_dim):\n",
        "        super(FCNN, self).__init__()\n",
        "\n",
        "        self.flatten = nn.Flatten()\n",
        "        self.linear_relu_stack = nn.Sequential(\n",
        "            nn.Linear(input_dim, hidden_dim),\n",
        "            nn.ReLU(),\n",
        "            nn.Dropout(0.5),\n",
        "            nn.Linear(hidden_dim, hidden_dim),\n",
        "            nn.ReLU(),\n",
        "            nn.Linear(hidden_dim, output_dim)\n",
        "        )\n",
        "\n",
        "\n",
        "    def forward(self, x):\n",
        "        x = self.flatten(x)\n",
        "        logits = self.linear_relu_stack(x)\n",
        "        return logits\n"
      ],
      "metadata": {
        "id": "qWoU7YwbogWr"
      },
      "execution_count": 29,
      "outputs": []
    },
    {
      "cell_type": "code",
      "source": [
        "    # train model\n",
        "    def train_model(model, train_loader, loss_fn, optimizer, epochs=1000):\n",
        "        model.train()\n",
        "        for epoch in range(epochs):\n",
        "            running_loss = 0.0\n",
        "            for inputs, labels in train_loader:\n",
        "                optimizer.zero_grad()  # Zero the gradients\n",
        "                outputs = model(inputs)  # Forward pass\n",
        "                loss = loss_fn(outputs, labels)  # Compute loss\n",
        "                running_loss += loss.item()\n",
        "                loss.backward()  # Backward pass\n",
        "                optimizer.step()  # Update weights\n",
        "\n",
        "        model.eval()\n",
        "        y_actual, y_pred = [], []\n",
        "        with torch.no_grad():\n",
        "          for inputs, labels in train_loader:\n",
        "            outputs = model(inputs)\n",
        "            _, predicted = torch.max(outputs, 1)\n",
        "            y_actual.extend(labels.numpy())\n",
        "            y_pred.extend(predicted.numpy())\n",
        "\n",
        "        train_accuracy = accuracy_score(y_actual, y_pred)\n",
        "        print(f\"\\nTrain Set Accuracy: {train_accuracy}\")\n",
        "\n",
        "\n",
        "\n",
        "train_dataset_full = TensorDataset(features_tensor, labels_tensor)\n",
        "train_loader_full = DataLoader(train_dataset_full, batch_size=64, shuffle=True)\n",
        "\n",
        "model = FCNN(input_dim=features_tensor.shape[1], hidden_dim=256, output_dim=max_score)\n",
        "class_weights = compute_class_weight(class_weight='balanced', classes=np.unique(y_train), y=y)\n",
        "class_weights = torch.tensor(class_weights, dtype=torch.float)\n",
        "loss_fn = nn.CrossEntropyLoss(weight=class_weights)\n",
        "optimizer = optim.Adam(model.parameters(), lr=0.0001)\n",
        "\n",
        "train_model(model, train_loader_full, loss_fn, optimizer, epochs=1000)\n"
      ],
      "metadata": {
        "colab": {
          "base_uri": "https://localhost:8080/"
        },
        "id": "0vwn4oNUwISY",
        "outputId": "eb47855d-9c19-4475-fec1-ee8b135d2874"
      },
      "execution_count": 31,
      "outputs": [
        {
          "output_type": "stream",
          "name": "stdout",
          "text": [
            "\n",
            "Train Set Accuracy: 0.57975910693302\n"
          ]
        }
      ]
    },
    {
      "cell_type": "code",
      "source": [
        "# cross validate model using 5 folds\n",
        "k_folds = 5\n",
        "kf = StratifiedKFold(n_splits=k_folds, shuffle=True, random_state=42)\n",
        "\n",
        "fold_accuracies = []\n",
        "\n",
        "for fold, (train_idx, val_idx) in enumerate(kf.split(features_tensor, labels_tensor)):\n",
        "    print(f\"Fold {fold + 1}/{k_folds}\")\n",
        "\n",
        "    train_features, val_features = features_tensor[train_idx], features_tensor[val_idx]\n",
        "    train_labels, val_labels = labels_tensor[train_idx], labels_tensor[val_idx]\n",
        "\n",
        "    train_dataset = TensorDataset(train_features, train_labels)\n",
        "    val_dataset = TensorDataset(val_features, val_labels)\n",
        "\n",
        "    train_loader = DataLoader(train_dataset, batch_size=64, shuffle=True)\n",
        "    val_loader = DataLoader(val_dataset, batch_size=64, shuffle=False)\n",
        "\n",
        "    model = FCNN(input_dim=features_tensor.shape[1], hidden_dim=256, output_dim=max_score)\n",
        "    class_weights = compute_class_weight(class_weight='balanced', classes=np.unique(y), y=y)\n",
        "    class_weights = torch.tensor(class_weights, dtype=torch.float)\n",
        "    loss_fn = nn.CrossEntropyLoss(weight=class_weights)\n",
        "    optimizer = optim.Adam(model.parameters(), lr=0.0001)\n",
        "\n",
        "    train_model(model, train_loader, loss_fn, optimizer, epochs=1000)\n",
        "\n",
        "    model.eval()\n",
        "    y_actual, y_pred = [], []\n",
        "    with torch.no_grad():\n",
        "        for inputs, labels in val_loader:\n",
        "            outputs = model(inputs)\n",
        "            _, predicted = torch.max(outputs, 1)\n",
        "            y_actual.extend(labels.numpy())\n",
        "            y_pred.extend(predicted.numpy())\n",
        "\n",
        "    fold_accuracy = accuracy_score(y_actual, y_pred)\n",
        "    fold_accuracies.append(fold_accuracy)\n",
        "    print(f\"Fold {fold + 1} Accuracy: {fold_accuracy}\")\n"
      ],
      "metadata": {
        "colab": {
          "base_uri": "https://localhost:8080/"
        },
        "id": "Y-IAYTnfpEG-",
        "outputId": "82280a15-76de-4ec3-8525-fb7d0f9cce98"
      },
      "execution_count": 38,
      "outputs": [
        {
          "output_type": "stream",
          "name": "stdout",
          "text": [
            "Fold 1/5\n",
            "\n",
            "Train Set Accuracy: 0.577120822622108\n",
            "Fold 1 Accuracy: 0.4185022026431718\n",
            "Fold 2/5\n",
            "\n",
            "Train Set Accuracy: 0.5829966948218877\n",
            "Fold 2 Accuracy: 0.3957415565345081\n",
            "Fold 3/5\n",
            "\n",
            "Train Set Accuracy: 0.5806096217407272\n",
            "Fold 3 Accuracy: 0.4236417033773862\n",
            "Fold 4/5\n",
            "\n",
            "Train Set Accuracy: 0.5889480447953002\n",
            "Fold 4 Accuracy: 0.3997060984570169\n",
            "Fold 5/5\n",
            "\n",
            "Train Set Accuracy: 0.5849091242885992\n",
            "Fold 5 Accuracy: 0.4019103600293902\n"
          ]
        }
      ]
    },
    {
      "cell_type": "code",
      "source": [
        "# average validation accuracy\n",
        "average_accuracy = np.mean(fold_accuracies)\n",
        "print(f\"\\nAverage accuracy across {k_folds} folds: {average_accuracy}\")\n"
      ],
      "metadata": {
        "id": "I6VHxMMbpJA5",
        "colab": {
          "base_uri": "https://localhost:8080/"
        },
        "outputId": "5381d9ca-be65-4b55-aa43-8058f00ddb64"
      },
      "execution_count": 35,
      "outputs": [
        {
          "output_type": "stream",
          "name": "stdout",
          "text": [
            "\n",
            "Average accuracy across 5 folds: 0.2773179002655256\n"
          ]
        }
      ]
    },
    {
      "cell_type": "code",
      "source": [
        "# retrain and test\n",
        "train_dataset_full = TensorDataset(features_tensor, labels_tensor)\n",
        "train_loader_full = DataLoader(train_dataset_full, batch_size=64, shuffle=True)\n",
        "\n",
        "final_model = FCNN(input_dim=features_tensor.shape[1], hidden_dim=256, output_dim=len(np.unique(y)))\n",
        "final_optimizer = optim.Adam(final_model.parameters(), lr=0.0001)\n",
        "\n",
        "\n",
        "train_model(final_model, train_loader_full, loss_fn, final_optimizer, epochs=1000)\n",
        "\n",
        "\n",
        "X_test_preprocessed = X_test.apply(preprocess_text)\n",
        "\n",
        "feature_vectors_test = np.array([get_feature_vector(essay, w2v_model) for essay in X_test_preprocessed])\n",
        "features_tensor_test = torch.tensor(feature_vectors_test, dtype=torch.float32)\n",
        "labels_tensor_test = torch.tensor(y_test.values-1, dtype=torch.long)\n",
        "\n",
        "test_dataset = TensorDataset(features_tensor_test, labels_tensor_test)\n",
        "test_loader = DataLoader(test_dataset, batch_size=64, shuffle=False)\n",
        "\n",
        "# evaluate final model\n",
        "final_model.eval()\n",
        "y_actual_test, y_pred_test = [], []\n",
        "with torch.no_grad():\n",
        "    for inputs, labels in test_loader:\n",
        "        outputs = final_model(inputs)\n",
        "        _, predicted = torch.max(outputs, 1)\n",
        "        y_actual_test.extend(labels.numpy())\n",
        "        y_pred_test.extend(predicted.numpy())\n",
        "\n",
        "test_accuracy = accuracy_score(y_actual_test, y_pred_test)\n",
        "print(f\"\\nTest Set Accuracy: {test_accuracy}\")\n"
      ],
      "metadata": {
        "id": "y-bc7xD3pwpm",
        "colab": {
          "base_uri": "https://localhost:8080/"
        },
        "outputId": "4c8ab7fd-e220-48d6-ac0a-fd68c216d941"
      },
      "execution_count": 36,
      "outputs": [
        {
          "output_type": "stream",
          "name": "stdout",
          "text": [
            "\n",
            "Train Set Accuracy: 0.5900411280846063\n",
            "\n",
            "Test Set Accuracy: 0.4112808460634548\n"
          ]
        }
      ]
    }
  ]
}